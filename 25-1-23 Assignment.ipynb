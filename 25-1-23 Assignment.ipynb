{
 "cells": [
  {
   "cell_type": "code",
   "execution_count": 1,
   "id": "35c6d527-68cf-48ad-867e-4ff010b29385",
   "metadata": {},
   "outputs": [
    {
     "name": "stdout",
     "output_type": "stream",
     "text": [
      "[10, 20, 30, 40, 50]\n",
      "[10, 30, 40, 50]\n",
      "[10, 30, 40]\n",
      "(10, 30, 40)\n"
     ]
    }
   ],
   "source": [
    "#WAP to delete an item from a tuple\n",
    "Tuple = (10, 20, 30, 40, 50)\n",
    "\n",
    "list = list(Tuple)  # converting the tuple to the list\n",
    "print(list)\n",
    "\n",
    "list.pop(1)   # removing by index methon\n",
    "print(list)\n",
    "\n",
    "list.remove(50) # removing by values\n",
    "print(list)\n",
    "\n",
    "\n",
    "new_tuple = tuple(list) # convert list to tuple\n",
    "print(new_tuple)\n"
   ]
  },
  {
   "cell_type": "code",
   "execution_count": 3,
   "id": "2b886bc9-5912-4e01-8917-712a0fcdc34c",
   "metadata": {},
   "outputs": [
    {
     "name": "stdin",
     "output_type": "stream",
     "text": [
      "Enter number of students : 5\n",
      "Enter names of student : ram\n",
      "Enter marks : 45\n",
      "Enter names of student : raj\n",
      "Enter marks : 56\n",
      "Enter names of student : geeta\n",
      "Enter marks : 60\n",
      "Enter names of student : rajesh\n",
      "Enter marks : 40\n",
      "Enter names of student : bharth\n",
      "Enter marks : 36\n"
     ]
    },
    {
     "name": "stdout",
     "output_type": "stream",
     "text": [
      "Dictionary of student created :\n",
      "{'ram': [45], 'raj': [56], 'geeta': [60], 'rajesh': [40], 'bharth': [36]}\n"
     ]
    }
   ],
   "source": [
    "'''\n",
    "WAP to input the names and marks of five students where names shuold be the\n",
    "keys and marks should be the values\n",
    "'''\n",
    "students = dict()\n",
    "n = int(input(\"Enter number of students :\"))\n",
    "for i in range(n):\n",
    "        sname = input(\"Enter names of student :\")\n",
    "        marks= []\n",
    "        for j in range(1):\n",
    "            mark = int(input(\"Enter marks :\"))\n",
    "            marks.append(mark)\n",
    "        students[sname] = marks\n",
    "print(\"Dictionary of student created :\")\n",
    "print(students)\n"
   ]
  },
  {
   "cell_type": "code",
   "execution_count": null,
   "id": "2d468db7-e84a-4d05-b855-5e9948d09dd7",
   "metadata": {},
   "outputs": [],
   "source": []
  }
 ],
 "metadata": {
  "kernelspec": {
   "display_name": "Python 3 (ipykernel)",
   "language": "python",
   "name": "python3"
  },
  "language_info": {
   "codemirror_mode": {
    "name": "ipython",
    "version": 3
   },
   "file_extension": ".py",
   "mimetype": "text/x-python",
   "name": "python",
   "nbconvert_exporter": "python",
   "pygments_lexer": "ipython3",
   "version": "3.9.8"
  }
 },
 "nbformat": 4,
 "nbformat_minor": 5
}
