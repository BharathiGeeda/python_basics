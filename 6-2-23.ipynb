{
 "cells": [
  {
   "cell_type": "code",
   "execution_count": 22,
   "id": "16a4be18-8868-4e68-a902-baa52831f4a7",
   "metadata": {},
   "outputs": [
    {
     "name": "stdin",
     "output_type": "stream",
     "text": [
      "Enter the value siri\n",
      "Enter the value 0\n"
     ]
    },
    {
     "name": "stdout",
     "output_type": "stream",
     "text": [
      "unsupported operand type(s) for /: 'str' and 'int'\n"
     ]
    }
   ],
   "source": [
    "'''\n",
    "WAP to input two numbers and divide them but  raise exceptions also based on the following \n",
    "conditions:\n",
    "    1. if second number is zero \n",
    "    2.if second value is a string or first value is a string\n",
    "\n",
    "'''\n",
    "\n",
    "def divide_num(a,b):\n",
    "    try:\n",
    "        if a != 0 or b == 0:\n",
    "            print(a/b)\n",
    "        elif b == str or a == str:\n",
    "            print(b/a)\n",
    "            \n",
    "    except ZeroDivisionError as ze:\n",
    "        print(ze)\n",
    "    except TypeError as te:\n",
    "        print(te)\n",
    "    \n",
    "a =input(\"Enter the value\")\n",
    "b = int(input(\"Enter the value\"))\n",
    "divide_num(a,b)\n",
    "\n",
    "\n"
   ]
  },
  {
   "cell_type": "code",
   "execution_count": 28,
   "id": "ba22dcdc-d3cc-46f7-8a29-8dc7f2446807",
   "metadata": {},
   "outputs": [
    {
     "name": "stdin",
     "output_type": "stream",
     "text": [
      "Enter the value 3\n",
      "enter the value 0\n"
     ]
    },
    {
     "name": "stdout",
     "output_type": "stream",
     "text": [
      "Division by 0 not expected\n"
     ]
    }
   ],
   "source": [
    "a = int(input(\"Enter the value\"))\n",
    "b = int(input(\"enter the value\"))\n",
    "try:\n",
    "    if a != 0 or  b == 0:\n",
    "        raise ZeroDivisionError(\"Division by 0 not expected\")\n",
    "        print(a/b)\n",
    "    elif a == str or b == str:\n",
    "        raise TypeError(\"unsuppoeted type error\")\n",
    "        print(b/a)\n",
    "except ZeroDivisionError as ze:\n",
    "    print(ze)\n",
    "except TypeError as te:\n",
    "    print(te)\n",
    "        \n",
    "    "
   ]
  }
 ],
 "metadata": {
  "kernelspec": {
   "display_name": "Python 3 (ipykernel)",
   "language": "python",
   "name": "python3"
  },
  "language_info": {
   "codemirror_mode": {
    "name": "ipython",
    "version": 3
   },
   "file_extension": ".py",
   "mimetype": "text/x-python",
   "name": "python",
   "nbconvert_exporter": "python",
   "pygments_lexer": "ipython3",
   "version": "3.9.8"
  }
 },
 "nbformat": 4,
 "nbformat_minor": 5
}
