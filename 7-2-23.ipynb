{
 "cells": [
  {
   "cell_type": "code",
   "execution_count": 10,
   "id": "67828c3c-66fd-402c-8ac9-f61a6b5ace44",
   "metadata": {},
   "outputs": [
    {
     "name": "stdout",
     "output_type": "stream",
     "text": [
      "1\n",
      "book found\n"
     ]
    }
   ],
   "source": [
    "'''\n",
    "WAp to create an exception called BookNotFoundException which should be raised when a \n",
    "particular is not found\n",
    "\n",
    "Hint: Use list of books and take book which user wants to find as input\n",
    "\n",
    "if book is found then print its position \n",
    "'''\n",
    "class BookNotFoundException(Exception):\n",
    "    def init(self,book):\n",
    "        super().init(book) \n",
    "        \n",
    "names = [\"Fiction\", \"Math\", \"Non-fiction\", \"History\", \"Coding\", \"Cooking\"]          \n",
    "\n",
    "def check(isfound):\n",
    "    for i in range(0, len(names)):\n",
    "        if names[i]== \"Math\":\n",
    "            print(i)\n",
    "            print(\"book found\")\n",
    "            break          \n",
    "    else:\n",
    "        raise BookNotFoundException(\"book not found\")\n",
    "    \n",
    "try:\n",
    "    check(names)\n",
    "    \n",
    "except BookNotFoundException as ae:\n",
    "     print(ae)"
   ]
  }
 ],
 "metadata": {
  "kernelspec": {
   "display_name": "Python 3 (ipykernel)",
   "language": "python",
   "name": "python3"
  },
  "language_info": {
   "codemirror_mode": {
    "name": "ipython",
    "version": 3
   },
   "file_extension": ".py",
   "mimetype": "text/x-python",
   "name": "python",
   "nbconvert_exporter": "python",
   "pygments_lexer": "ipython3",
   "version": "3.9.8"
  }
 },
 "nbformat": 4,
 "nbformat_minor": 5
}
