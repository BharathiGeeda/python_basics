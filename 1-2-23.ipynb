{
 "cells": [
  {
   "cell_type": "code",
   "execution_count": 1,
   "id": "0ec53bba-ae80-4b6b-ab3c-f7c4ac5b2550",
   "metadata": {},
   "outputs": [
    {
     "name": "stdin",
     "output_type": "stream",
     "text": [
      "Enter the name bharathi\n",
      "Enter the salary 50000\n"
     ]
    },
    {
     "name": "stdout",
     "output_type": "stream",
     "text": [
      "49900\n"
     ]
    }
   ],
   "source": [
    "'''\n",
    "Write a program using classes and objects to take the employee name \n",
    "and salary as input and calculate the total salary after \n",
    "deducting 0.2% salary from it.\n",
    "'''\n",
    "class Employee:\n",
    "    def deduction_amount(self):\n",
    "       return int(float(self.salary - ((self.salary * float(self.deduction))/100)))\n",
    "\n",
    "   def __init__(self, name, salary):\n",
    "       self.name = name\n",
    "       self.salary = salary\n",
    "       self.final_salary = self.deduction_amount()\n",
    "\n",
    "m_name = input(\"Enter the name\")\n",
    "m_salary = int(input(\"Enter the salary\"))\n",
    "\n",
    "emp_1 = Employee(m_name, m_salary)\n",
    "\n",
    "print(emp_1.final_salary)"
   ]
  },
  {
   "cell_type": "code",
   "execution_count": 13,
   "id": "620d9274-56c2-4d42-8253-c409d46694f8",
   "metadata": {},
   "outputs": [
    {
     "name": "stdin",
     "output_type": "stream",
     "text": [
      "Enter name bharathi\n",
      "Enter salary 50000\n"
     ]
    },
    {
     "name": "stdout",
     "output_type": "stream",
     "text": [
      "49900\n"
     ]
    }
   ],
   "source": [
    "class  Employee:\n",
    "    def __init__(self,name,salary):\n",
    "        self.name = name\n",
    "        self.salary = salary\n",
    "    def total_salary(self,deduction_salary):\n",
    "        print(int(self.salary - (self.salary * (deduction_salary))/100))\n",
    "a = input(\"Enter name\")\n",
    "b = int(input(\"Enter salary\"))\n",
    "emp1 = Employee(a, b)\n",
    "\n",
    "final_salary = emp1.total_salary(0.2)\n",
    "final_salary\n",
    "\n"
   ]
  },
  {
   "cell_type": "code",
   "execution_count": 18,
   "id": "ee086320-d08f-410e-9dd6-c8be74447f68",
   "metadata": {},
   "outputs": [
    {
     "name": "stdin",
     "output_type": "stream",
     "text": [
      "enter name: bharathi\n",
      "enter salary: 50000\n"
     ]
    },
    {
     "name": "stdout",
     "output_type": "stream",
     "text": [
      "49900\n"
     ]
    }
   ],
   "source": [
    "class Employee:\n",
    "\n",
    "    def __init__(self, name, salary):\n",
    "        self.name = name\n",
    "        self.salary = salary\n",
    "\n",
    "    def apply_taxes(self):\n",
    "        print(int(self.salary - (self.salary * (0.2))/100))\n",
    "\n",
    "m_name = input(\"enter name:\")\n",
    "m_salary= int(input(\"enter salary:\"))\n",
    "Emp_1= Employee(m_name, m_salary)\n",
    "\n",
    "Final_salary = Emp_1.apply_taxes()"
   ]
  }
 ],
 "metadata": {
  "kernelspec": {
   "display_name": "Python 3 (ipykernel)",
   "language": "python",
   "name": "python3"
  },
  "language_info": {
   "codemirror_mode": {
    "name": "ipython",
    "version": 3
   },
   "file_extension": ".py",
   "mimetype": "text/x-python",
   "name": "python",
   "nbconvert_exporter": "python",
   "pygments_lexer": "ipython3",
   "version": "3.9.8"
  }
 },
 "nbformat": 4,
 "nbformat_minor": 5
}
