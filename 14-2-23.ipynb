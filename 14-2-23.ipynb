{
 "cells": [
  {
   "cell_type": "code",
   "execution_count": 40,
   "id": "cb9d18ad-cb2d-4844-b268-3bc8b45d19fa",
   "metadata": {},
   "outputs": [
    {
     "name": "stdout",
     "output_type": "stream",
     "text": [
      "['ask b']\n"
     ]
    }
   ],
   "source": [
    "'''\n",
    "Write a Python program that matches a string that has \n",
    "an a followed by one or more b's\n",
    "'''\n",
    "import re\n",
    "\n",
    "txt=\"ask balu\"\n",
    "\n",
    "x=re.findall(\"a.+b\",txt)\n",
    "print(x)\n",
    "\n",
    "\n",
    "\n",
    "        "
   ]
  },
  {
   "cell_type": "code",
   "execution_count": 42,
   "id": "abecfe2c-2b6c-484b-b8de-22d1015e4d7c",
   "metadata": {},
   "outputs": [
    {
     "name": "stdout",
     "output_type": "stream",
     "text": [
      "yes\n"
     ]
    }
   ],
   "source": [
    "'''\n",
    "Write a Python program to find the sequences of one upper case \n",
    "letter followed by lower case letters.\n",
    "'''\n",
    "import re\n",
    "txt = \"TheRainySeason\"\n",
    "x =re.findall('([A-Z])[a-z]',txt)\n",
    "if x:\n",
    "    print(\"yes\")\n",
    "else:\n",
    "    print(\"no\")\n",
    "    \n",
    "    \n",
    "    "
   ]
  }
 ],
 "metadata": {
  "kernelspec": {
   "display_name": "Python 3 (ipykernel)",
   "language": "python",
   "name": "python3"
  },
  "language_info": {
   "codemirror_mode": {
    "name": "ipython",
    "version": 3
   },
   "file_extension": ".py",
   "mimetype": "text/x-python",
   "name": "python",
   "nbconvert_exporter": "python",
   "pygments_lexer": "ipython3",
   "version": "3.9.8"
  }
 },
 "nbformat": 4,
 "nbformat_minor": 5
}
