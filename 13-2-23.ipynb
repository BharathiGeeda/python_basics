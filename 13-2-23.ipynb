{
 "cells": [
  {
   "cell_type": "code",
   "execution_count": 22,
   "id": "b4f63ea7-e08b-4ce7-b89d-7e6c34ed4ed3",
   "metadata": {},
   "outputs": [
    {
     "name": "stdout",
     "output_type": "stream",
     "text": [
      "HELLO\n"
     ]
    }
   ],
   "source": [
    "'''\n",
    "WAp to create a function called demo which will have a string in the parameter.\n",
    "Using the inner function return the string of function demo into uppercase.\n",
    "\n",
    "'''\n",
    "def demo(str):\n",
    "    def string():\n",
    "        return str.upper()\n",
    "    return string\n",
    "a = demo(\"hello\")\n",
    "\n",
    "print(a())"
   ]
  },
  {
   "cell_type": "code",
   "execution_count": 14,
   "id": "b3b5e0eb-683e-48af-8f7e-9288b54b0152",
   "metadata": {},
   "outputs": [
    {
     "name": "stdout",
     "output_type": "stream",
     "text": [
      "120\n"
     ]
    }
   ],
   "source": [
    "'''\n",
    "WAP to create a decorator func which should return the factorial of any number\n",
    "which is being returned by some other function'''\n",
    "def Factorial(func):\n",
    "    def wrapper():\n",
    "        result = func()\n",
    "        fact = 1\n",
    "        if (result < 0):\n",
    "            return\n",
    "        for i in range(1, result + 1):\n",
    "            fact = fact * i\n",
    "        return fact\n",
    "    return wrapper\n",
    "@Factorial\n",
    "def factor():\n",
    "    return 5\n",
    "print(factor())"
   ]
  },
  {
   "cell_type": "code",
   "execution_count": null,
   "id": "cddbb2ec-e93f-46e8-9f32-5c575be4b58a",
   "metadata": {},
   "outputs": [],
   "source": []
  }
 ],
 "metadata": {
  "kernelspec": {
   "display_name": "Python 3 (ipykernel)",
   "language": "python",
   "name": "python3"
  },
  "language_info": {
   "codemirror_mode": {
    "name": "ipython",
    "version": 3
   },
   "file_extension": ".py",
   "mimetype": "text/x-python",
   "name": "python",
   "nbconvert_exporter": "python",
   "pygments_lexer": "ipython3",
   "version": "3.9.8"
  }
 },
 "nbformat": 4,
 "nbformat_minor": 5
}
