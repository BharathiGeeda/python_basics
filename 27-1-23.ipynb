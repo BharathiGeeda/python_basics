{
 "cells": [
  {
   "cell_type": "code",
   "execution_count": 7,
   "id": "eb573d2b-88bc-4620-baa4-f76e8d2c3087",
   "metadata": {},
   "outputs": [
    {
     "name": "stdin",
     "output_type": "stream",
     "text": [
      "Enter the value: 5\n"
     ]
    },
    {
     "name": "stdout",
     "output_type": "stream",
     "text": [
      "120\n"
     ]
    }
   ],
   "source": [
    "#WAP to input a number using function argument and print it factorial\n",
    "def factorial(n):\n",
    "    \n",
    "    if n == 0:\n",
    "        return 1\n",
    "    result = 1\n",
    "    for i in range(1, n+1):\n",
    "        result = result * i\n",
    "    return result\n",
    "        \n",
    "n = int(input(\"Enter the value:\"))\n",
    "print(factorial(n))\n",
    "        "
   ]
  },
  {
   "cell_type": "code",
   "execution_count": 10,
   "id": "d3af5337-198d-4338-8678-17e62a903c99",
   "metadata": {},
   "outputs": [
    {
     "name": "stdout",
     "output_type": "stream",
     "text": [
      "Value exists in the dictionary\n"
     ]
    }
   ],
   "source": [
    "'''\n",
    "WAP to search for a value in dictionary, if the value exists then print it along\n",
    "with its position otherwise print not found\n",
    "'''\n",
    "my_dict = {\"name\": \"John\",\"city\": \"New York\",\"profession\": \"Engineer\"}\n",
    "all_values = my_dict.values()\n",
    "if \"Engineer\" in all_values:\n",
    "    print(\"Value exists in the dictionary\")\n",
    "else:\n",
    "    print(\"Value does not exist in the dictionary\")\n",
    " \n"
   ]
  },
  {
   "cell_type": "code",
   "execution_count": null,
   "id": "26e484d8-090c-4204-9cc4-c76680fb3d31",
   "metadata": {},
   "outputs": [],
   "source": []
  }
 ],
 "metadata": {
  "kernelspec": {
   "display_name": "Python 3 (ipykernel)",
   "language": "python",
   "name": "python3"
  },
  "language_info": {
   "codemirror_mode": {
    "name": "ipython",
    "version": 3
   },
   "file_extension": ".py",
   "mimetype": "text/x-python",
   "name": "python",
   "nbconvert_exporter": "python",
   "pygments_lexer": "ipython3",
   "version": "3.9.8"
  }
 },
 "nbformat": 4,
 "nbformat_minor": 5
}
