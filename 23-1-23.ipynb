{
 "cells": [
  {
   "cell_type": "code",
   "execution_count": 13,
   "id": "d9325839-8dcf-45a1-b1e3-a1326563ad6d",
   "metadata": {},
   "outputs": [
    {
     "name": "stdin",
     "output_type": "stream",
     "text": [
      "enter the value: 4\n"
     ]
    },
    {
     "name": "stdout",
     "output_type": "stream",
     "text": [
      "* \n",
      "* * \n",
      "* * * \n",
      "* * * * \n"
     ]
    }
   ],
   "source": [
    "#right angled traingle\n",
    "n = int(input(\"enter the value:\"))\n",
    "for i in range(1, n+1):\n",
    "    print(\"* \" * i)\n"
   ]
  },
  {
   "cell_type": "code",
   "execution_count": 10,
   "id": "b336bf18-3415-4acf-baec-6f2fedfed23f",
   "metadata": {},
   "outputs": [
    {
     "name": "stdout",
     "output_type": "stream",
     "text": [
      "* \n",
      "* * \n",
      "* * * \n",
      "* * * * \n"
     ]
    }
   ],
   "source": [
    "for rows in range(1,5):\n",
    "    for cols in range(1, rows + 1):\n",
    "        print(\"*\", end = \" \")\n",
    "    print()"
   ]
  },
  {
   "cell_type": "code",
   "execution_count": 15,
   "id": "2fbecf1c-0ac6-4f18-ac43-b36620d9e8db",
   "metadata": {},
   "outputs": [
    {
     "name": "stdout",
     "output_type": "stream",
     "text": [
      "1 \n",
      "1 2 \n",
      "1 2 3 \n",
      "1 2 3 4 \n",
      "1 \n",
      "1 2 \n",
      "1 2 3 \n",
      "1 2 3 4 \n"
     ]
    }
   ],
   "source": [
    "for rows in range(1,5):\n",
    "    for cols in range(1, rows +1):\n",
    "        print(cols, end = \" \")\n",
    "    print()\n",
    "    \n",
    "    #or \n",
    "    \n",
    "for i in range(1,5):\n",
    "    num=1\n",
    "    for j in range(1,i+1):\n",
    "        print(num,end=' ')\n",
    "        num=num+1\n",
    "    print()"
   ]
  },
  {
   "cell_type": "code",
   "execution_count": null,
   "id": "2c22c437-87c3-484e-9b11-dfa34f17a931",
   "metadata": {},
   "outputs": [],
   "source": []
  }
 ],
 "metadata": {
  "kernelspec": {
   "display_name": "Python 3 (ipykernel)",
   "language": "python",
   "name": "python3"
  },
  "language_info": {
   "codemirror_mode": {
    "name": "ipython",
    "version": 3
   },
   "file_extension": ".py",
   "mimetype": "text/x-python",
   "name": "python",
   "nbconvert_exporter": "python",
   "pygments_lexer": "ipython3",
   "version": "3.9.8"
  }
 },
 "nbformat": 4,
 "nbformat_minor": 5
}
