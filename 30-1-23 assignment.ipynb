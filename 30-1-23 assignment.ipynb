{
 "cells": [
  {
   "cell_type": "code",
   "execution_count": 49,
   "id": "a0600b8f-a798-4e1c-9f97-d9f8bacca681",
   "metadata": {},
   "outputs": [
    {
     "name": "stdin",
     "output_type": "stream",
     "text": [
      "Enter Name= bharathi\n",
      "Enter Marks= 89\n",
      "Enter Name= Asia\n",
      "Enter Marks= 90\n",
      "Enter Name= Antartica\n",
      "Enter Marks= 78\n",
      "Enter Name= ram\n",
      "Enter Marks= 90\n",
      "Enter Name= nam\n",
      "Enter Marks= 90\n"
     ]
    }
   ],
   "source": [
    "#WAP to take the names and marks of five students as input and write it to the file.\n",
    "File = open (\"MarkStudents.txt\", \"w\")\n",
    "for i in range (5) :\n",
    "    name= input(\"Enter Name=\")\n",
    "    markStudents=int(input(\"Enter Marks=\"))\n",
    "    rec = name + str(markStudents)+'\\n'\n",
    "    File.write(rec)\n",
    "File.close( )\n",
    "\n",
    "\n",
    "\n",
    "\n",
    "\n",
    "\n"
   ]
  },
  {
   "cell_type": "code",
   "execution_count": 40,
   "id": "7e8f5aa2-42c2-4709-bffc-1b02d1b5ec2f",
   "metadata": {},
   "outputs": [
    {
     "name": "stdout",
     "output_type": "stream",
     "text": [
      "[1, 2, 3, 4]\n"
     ]
    }
   ],
   "source": [
    "#WAP to take a list as function argument and return unique elements from the function\n",
    "def unique_list(numbers):\n",
    "    unique = []\n",
    "    for item in numbers :\n",
    "        if item not in unique:\n",
    "            unique.append(item)\n",
    "    return unique\n",
    "print(unique_list([1, 2, 3, 1, 2, 4, 2, 1]))\n",
    "\n",
    "\n",
    "\n",
    "\n",
    "\n",
    "\n"
   ]
  },
  {
   "cell_type": "code",
   "execution_count": 50,
   "id": "70697b87-8746-4880-b8b5-fc351f081d78",
   "metadata": {},
   "outputs": [
    {
     "name": "stdout",
     "output_type": "stream",
     "text": [
      "Enter the Name of File: \n"
     ]
    },
    {
     "name": "stdin",
     "output_type": "stream",
     "text": [
      " MarkStudents.txt\n"
     ]
    },
    {
     "name": "stdout",
     "output_type": "stream",
     "text": [
      "\n",
      "Total Vowels are:\n",
      "12\n"
     ]
    }
   ],
   "source": [
    "#WAP to count the number of vowels in a file\n",
    "print(\"Enter the Name of File: \")\n",
    "fileName = str(input())\n",
    "fileHandle = open(fileName, \"r\")\n",
    "tot = 0\n",
    "vowels = ['a', 'e', 'i', 'o', 'u', 'A', 'E', 'I', 'O', 'U']\n",
    "\n",
    "for char in fileHandle.read():\n",
    "    if char in vowels:\n",
    "        tot = tot+1\n",
    "fileHandle.close()\n",
    "\n",
    "print(\"\\nTotal Vowels are:\")\n",
    "print(tot)\n",
    "\n",
    "\n",
    "\n",
    "\n"
   ]
  },
  {
   "cell_type": "code",
   "execution_count": 54,
   "id": "b72b6e73-4fc9-49c1-8bdd-d718399e6306",
   "metadata": {},
   "outputs": [
    {
     "data": {
      "text/plain": [
       "[['Asia90\\n', 'Antartica78\\n']]"
      ]
     },
     "execution_count": 54,
     "metadata": {},
     "output_type": "execute_result"
    }
   ],
   "source": [
    "#WAP to print the number of lines starting with \"A\"\n",
    "def f(file_path):\n",
    "    with open(file_path) as f:\n",
    "    \n",
    "        lines_start_with_A = [i for i in f if i[0] == 'A']\n",
    "\n",
    "    return [lines_start_with_A]\n",
    "\n",
    "\n",
    "f('MarkStudents.txt')\n",
    "\n"
   ]
  },
  {
   "cell_type": "code",
   "execution_count": 52,
   "id": "594eb995-a00d-439a-aef2-712fafef5414",
   "metadata": {},
   "outputs": [
    {
     "name": "stdout",
     "output_type": "stream",
     "text": [
      "total vowels :  12\n"
     ]
    }
   ],
   "source": [
    "#WAP to count the number of vowels in a file\n",
    "def vowelsCount():\n",
    "    file = open(\"MarkStudents.txt\")\n",
    "    content = file.read()\n",
    "    vowels = list(\"AEIOUaeiou\")\n",
    "    count = 0\n",
    "    for vowel in content:\n",
    "        if vowel in vowels:\n",
    "            count += 1\n",
    "    return count\n",
    "print(\"total vowels : \", vowelsCount())\n"
   ]
  },
  {
   "cell_type": "code",
   "execution_count": 56,
   "id": "7a595fa1-9cfc-4dc4-93a1-ab3936087b7f",
   "metadata": {},
   "outputs": [
    {
     "name": "stdout",
     "output_type": "stream",
     "text": [
      "2 lines\n"
     ]
    }
   ],
   "source": [
    "#WAP to print the number of lines starting with \"A\"\n",
    "def read_data():\n",
    "    count = 0\n",
    "    f = open(\"MarkStudents.txt\",'r')\n",
    "    s = f.readlines()\n",
    "    for i in s:\n",
    "        if i[0] == 'A':\n",
    "            count += 1\n",
    "        else:\n",
    "            pass\n",
    "    print(count,\"\"+\"lines\")\n",
    "\n",
    "read_data()"
   ]
  },
  {
   "cell_type": "code",
   "execution_count": null,
   "id": "400e58ec-7975-4256-b988-07fa8c53fec6",
   "metadata": {},
   "outputs": [],
   "source": []
  }
 ],
 "metadata": {
  "kernelspec": {
   "display_name": "Python 3 (ipykernel)",
   "language": "python",
   "name": "python3"
  },
  "language_info": {
   "codemirror_mode": {
    "name": "ipython",
    "version": 3
   },
   "file_extension": ".py",
   "mimetype": "text/x-python",
   "name": "python",
   "nbconvert_exporter": "python",
   "pygments_lexer": "ipython3",
   "version": "3.9.8"
  }
 },
 "nbformat": 4,
 "nbformat_minor": 5
}
