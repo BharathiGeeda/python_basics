{
 "cells": [
  {
   "cell_type": "code",
   "execution_count": 13,
   "id": "9984ce4b-442b-44ff-ab54-e72c8dfc614a",
   "metadata": {},
   "outputs": [
    {
     "name": "stdout",
     "output_type": "stream",
     "text": [
      "30\n",
      "100\n",
      "No value found\n"
     ]
    }
   ],
   "source": [
    "'''\n",
    "WAP to create a class called Calculation which should display the square of the number\n",
    "if only one argument is passed and it should display the addition of all the numbers\n",
    "if more than one argument is passed otherwise if no argument is passed then display\n",
    "\"No value found\"\n",
    "'''\n",
    "class Calculation:\n",
    "    def calc(self,a=None,b=None):\n",
    "        if a is not None and b is not None:\n",
    "            print(a+b)\n",
    "        elif a is None and b is not None:\n",
    "            print(b**2)\n",
    "        elif a is not None and b is None:\n",
    "            print(a**2)\n",
    "        else:\n",
    "            print(\"No value found\")\n",
    "\n",
    "\n",
    "c=Calculation()\n",
    "c.calc(10,20)\n",
    "c.calc(10)\n",
    "c.calc()\n"
   ]
  },
  {
   "cell_type": "code",
   "execution_count": null,
   "id": "48d88555-2708-466c-be13-a3012dc4965d",
   "metadata": {},
   "outputs": [],
   "source": []
  }
 ],
 "metadata": {
  "kernelspec": {
   "display_name": "Python 3 (ipykernel)",
   "language": "python",
   "name": "python3"
  },
  "language_info": {
   "codemirror_mode": {
    "name": "ipython",
    "version": 3
   },
   "file_extension": ".py",
   "mimetype": "text/x-python",
   "name": "python",
   "nbconvert_exporter": "python",
   "pygments_lexer": "ipython3",
   "version": "3.9.8"
  }
 },
 "nbformat": 4,
 "nbformat_minor": 5
}
