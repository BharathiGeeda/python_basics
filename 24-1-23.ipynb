{
 "cells": [
  {
   "cell_type": "code",
   "execution_count": 9,
   "id": "ace8cf81-f597-438d-891c-6d8822fa9fda",
   "metadata": {},
   "outputs": [
    {
     "name": "stdin",
     "output_type": "stream",
     "text": [
      "Enter the string hello1234@#$\n"
     ]
    },
    {
     "name": "stdout",
     "output_type": "stream",
     "text": [
      "5 4 3\n"
     ]
    }
   ],
   "source": [
    "string=input(\"Enter the string\")\n",
    "count1=count2=count3=0\n",
    "for i in string:\n",
    "    if i.isalpha():\n",
    "        count1=count1+1\n",
    "    elif i.isdigit():\n",
    "        count2=count2+1\n",
    "    else:\n",
    "        count3=count3+1\n",
    "print(count1,count2,count3)\n",
    "        \n",
    "\n"
   ]
  },
  {
   "cell_type": "code",
   "execution_count": null,
   "id": "2e1d1267-c4c4-4b72-a115-606a27704712",
   "metadata": {},
   "outputs": [],
   "source": []
  }
 ],
 "metadata": {
  "kernelspec": {
   "display_name": "Python 3 (ipykernel)",
   "language": "python",
   "name": "python3"
  },
  "language_info": {
   "codemirror_mode": {
    "name": "ipython",
    "version": 3
   },
   "file_extension": ".py",
   "mimetype": "text/x-python",
   "name": "python",
   "nbconvert_exporter": "python",
   "pygments_lexer": "ipython3",
   "version": "3.9.8"
  }
 },
 "nbformat": 4,
 "nbformat_minor": 5
}
