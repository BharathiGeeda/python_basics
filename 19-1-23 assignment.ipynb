{
 "cells": [
  {
   "cell_type": "code",
   "execution_count": 1,
   "id": "0f5cbc2b-6559-44ba-994b-ca7e8036a744",
   "metadata": {},
   "outputs": [
    {
     "name": "stdin",
     "output_type": "stream",
     "text": [
      "enter the value: 4\n"
     ]
    },
    {
     "name": "stdout",
     "output_type": "stream",
     "text": [
      "Positive\n"
     ]
    }
   ],
   "source": [
    "#WAP to input a number and check whether it is positive or negative\n",
    "a = int(input(\"enter the value:\"))\n",
    "if a > 0:\n",
    "    print(\"Positive\")\n",
    "else:\n",
    "    print(\"Negative\")\n",
    "    "
   ]
  },
  {
   "cell_type": "code",
   "execution_count": 2,
   "id": "debccc21-ed9a-46ff-ac8e-81843eedc6e9",
   "metadata": {},
   "outputs": [
    {
     "name": "stdin",
     "output_type": "stream",
     "text": [
      "enter the value: 6\n"
     ]
    },
    {
     "name": "stdout",
     "output_type": "stream",
     "text": [
      "Even\n"
     ]
    }
   ],
   "source": [
    "#WAP to input a number and check whether it is odd or even\n",
    "a = int(input(\"enter the value:\"))\n",
    "\n",
    "if (a % 2) == 0:\n",
    "    print(\"Even\")\n",
    "else:\n",
    "    print(\"Odd\")\n",
    "          \n",
    "\n",
    "    "
   ]
  },
  {
   "cell_type": "code",
   "execution_count": 3,
   "id": "e6a702c1-161b-4a7f-b114-867cbf9e41d9",
   "metadata": {},
   "outputs": [
    {
     "name": "stdin",
     "output_type": "stream",
     "text": [
      "enter the value: 15\n"
     ]
    },
    {
     "name": "stdout",
     "output_type": "stream",
     "text": [
      "True\n"
     ]
    }
   ],
   "source": [
    "#WAP to input a number and check whether it is divisible by 5 as well as 3\n",
    "a = int(input(\"enter the value:\"))\n",
    "if ((a % 3 == 0) & (a % 5 == 0)):\n",
    "    print(\"True\")\n",
    "else:\n",
    "    print(\"False\")"
   ]
  },
  {
   "cell_type": "code",
   "execution_count": 4,
   "id": "e215e4d4-1740-47f6-a901-b3848acbb367",
   "metadata": {},
   "outputs": [
    {
     "name": "stdin",
     "output_type": "stream",
     "text": [
      "enter the value: 4\n",
      "enter the second value: 5\n"
     ]
    },
    {
     "name": "stdout",
     "output_type": "stream",
     "text": [
      "5\n",
      "4\n"
     ]
    }
   ],
   "source": [
    "#wap to input two numbers and swap their values\n",
    "a = int(input(\"enter the value:\"))\n",
    "b = int(input(\"enter the second value:\"))\n",
    "reverse = b \n",
    "second_reverse = a\n",
    "print(reverse)\n",
    "print(second_reverse)\n"
   ]
  },
  {
   "cell_type": "code",
   "execution_count": 5,
   "id": "b104571e-a1f2-4e0d-8121-aad946c1fb25",
   "metadata": {},
   "outputs": [
    {
     "name": "stdin",
     "output_type": "stream",
     "text": [
      "marks1: 50\n",
      "marks2: 65\n",
      "marks3: 75\n"
     ]
    },
    {
     "name": "stdout",
     "output_type": "stream",
     "text": [
      "190\n",
      "63.333333333333336\n"
     ]
    }
   ],
   "source": [
    "#WAP to input three subject marks and print their average\n",
    "a = int(input(\"marks1:\"))\n",
    "b = int(input(\"marks2:\"))\n",
    "c = int(input(\"marks3:\"))\n",
    "total = a + b + c\n",
    "average = total/3\n",
    "print(total)\n",
    "print(average)\n",
    "\n",
    "\n",
    "\n"
   ]
  },
  {
   "cell_type": "code",
   "execution_count": 6,
   "id": "61bde272-909a-44cb-baac-80790bd50232",
   "metadata": {},
   "outputs": [
    {
     "name": "stdin",
     "output_type": "stream",
     "text": [
      "temp value: 30\n"
     ]
    },
    {
     "name": "stdout",
     "output_type": "stream",
     "text": [
      "86.0\n"
     ]
    }
   ],
   "source": [
    "#WAP to input temperature and convert it into fahrenheit\n",
    "temp = float(input(\"temp value:\"))\n",
    "fahrenheit = (temp * 1.8) + 32\n",
    "print(fahrenheit)"
   ]
  },
  {
   "cell_type": "code",
   "execution_count": null,
   "id": "d4d8fb0f-5297-437d-bdf5-6acd54af3345",
   "metadata": {},
   "outputs": [],
   "source": []
  }
 ],
 "metadata": {
  "kernelspec": {
   "display_name": "Python 3 (ipykernel)",
   "language": "python",
   "name": "python3"
  },
  "language_info": {
   "codemirror_mode": {
    "name": "ipython",
    "version": 3
   },
   "file_extension": ".py",
   "mimetype": "text/x-python",
   "name": "python",
   "nbconvert_exporter": "python",
   "pygments_lexer": "ipython3",
   "version": "3.9.8"
  },
  "toc-autonumbering": true
 },
 "nbformat": 4,
 "nbformat_minor": 5
}
