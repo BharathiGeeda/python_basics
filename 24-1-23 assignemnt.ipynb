{
 "cells": [
  {
   "cell_type": "code",
   "execution_count": 1,
   "id": "94669b4c-fc1f-4b68-b8cd-8cb6440dcef9",
   "metadata": {},
   "outputs": [
    {
     "name": "stdin",
     "output_type": "stream",
     "text": [
      "Enter the value: BhArAThI\n"
     ]
    },
    {
     "name": "stdout",
     "output_type": "stream",
     "text": [
      " bHaRatHi\n"
     ]
    }
   ],
   "source": [
    "'''\n",
    "WAP to input a string and convert the uppercase letters into lowercase\n",
    "and lowercase into uppercase and then print the complete string\n",
    "'''\n",
    "string = input(\"Enter the value:\")\n",
    "count = \" \"\n",
    "for i in string:\n",
    "    if (i.isupper()):\n",
    "        count += i.lower()\n",
    "    else:\n",
    "        count += i.upper()\n",
    "print(count)\n"
   ]
  },
  {
   "cell_type": "code",
   "execution_count": 4,
   "id": "ba083a99-c715-4492-a7c4-301391154055",
   "metadata": {},
   "outputs": [
    {
     "name": "stdout",
     "output_type": "stream",
     "text": [
      "[1, 2, 3]\n"
     ]
    }
   ],
   "source": [
    "#WAP to remove duplicate elements in a list\n",
    "L1 = [1,3,2,3]\n",
    "L1.remove(3)\n",
    "print(L1)"
   ]
  },
  {
   "cell_type": "code",
   "execution_count": null,
   "id": "7275608d-415c-434c-bc52-8e899f193e6c",
   "metadata": {},
   "outputs": [],
   "source": []
  }
 ],
 "metadata": {
  "kernelspec": {
   "display_name": "Python 3 (ipykernel)",
   "language": "python",
   "name": "python3"
  },
  "language_info": {
   "codemirror_mode": {
    "name": "ipython",
    "version": 3
   },
   "file_extension": ".py",
   "mimetype": "text/x-python",
   "name": "python",
   "nbconvert_exporter": "python",
   "pygments_lexer": "ipython3",
   "version": "3.9.8"
  }
 },
 "nbformat": 4,
 "nbformat_minor": 5
}
