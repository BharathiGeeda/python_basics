{
 "cells": [
  {
   "cell_type": "code",
   "execution_count": 1,
   "id": "6088b585-2b16-4a49-9a3f-aaaf07c57810",
   "metadata": {},
   "outputs": [],
   "source": [
    "import mysql.connector as mysql"
   ]
  },
  {
   "cell_type": "code",
   "execution_count": 3,
   "id": "4bfb8e04-410d-4be2-bcce-d07f295b4721",
   "metadata": {},
   "outputs": [],
   "source": [
    "db_con = mysql.connect(host = \"localhost\", user = \"root\")\n",
    "db_cursor = db_con.cursor()\n",
    "db_cursor.execute(\"create database unitedalliance\")"
   ]
  },
  {
   "cell_type": "code",
   "execution_count": 10,
   "id": "93418b71-ad79-4440-a2ab-027a50206ebf",
   "metadata": {},
   "outputs": [],
   "source": [
    "db_con = mysql.connect(host = \"localhost\", user = \"root\", db = \"unitedalliance\")\n",
    "db_cursor = db_con.cursor()\n",
    "db_cursor.execute(\"create table Employees(id int primary key, name varchar(30),salary decimal(7,2))\")\n",
    "db_con.close()\n"
   ]
  },
  {
   "cell_type": "code",
   "execution_count": 12,
   "id": "595c768d-1ebd-4362-b538-db6560d403f0",
   "metadata": {},
   "outputs": [],
   "source": [
    "db_con = mysql.connect(host = \"localhost\", user = \"root\", db = \"unitedalliance\")\n",
    "db_cursor = db_con.cursor()\n",
    "db_cursor.execute(\"insert into Employees(id,name,salary)values(1,'bharathi',25000.39)\")\n",
    "db_con.commit()\n",
    "db_con.close()"
   ]
  }
 ],
 "metadata": {
  "kernelspec": {
   "display_name": "Python 3 (ipykernel)",
   "language": "python",
   "name": "python3"
  },
  "language_info": {
   "codemirror_mode": {
    "name": "ipython",
    "version": 3
   },
   "file_extension": ".py",
   "mimetype": "text/x-python",
   "name": "python",
   "nbconvert_exporter": "python",
   "pygments_lexer": "ipython3",
   "version": "3.9.8"
  }
 },
 "nbformat": 4,
 "nbformat_minor": 5
}
