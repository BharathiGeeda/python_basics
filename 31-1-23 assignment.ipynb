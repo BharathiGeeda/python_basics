{
 "cells": [
  {
   "cell_type": "code",
   "execution_count": 1,
   "id": "e324d361-3d4c-49f3-833a-07c1c3267570",
   "metadata": {},
   "outputs": [
    {
     "name": "stdin",
     "output_type": "stream",
     "text": [
      "Enter value 200\n",
      "Enter value 100\n"
     ]
    },
    {
     "name": "stdout",
     "output_type": "stream",
     "text": [
      "198.47849528989047\n",
      "155.99210485014834\n",
      "182.76294405297858\n",
      "101.30119639237284\n",
      "175.15835313875027\n",
      "144.14942175189418\n",
      "152.66103797238188\n",
      "197.08612274559277\n",
      "131.51195077460437\n",
      "148.87108828652538\n"
     ]
    }
   ],
   "source": [
    "# WAp to print n random floating point numbers between 100 to 200.\n",
    "import random\n",
    "n = float(input(\"Enter value\"))\n",
    "m = float(input(\"Enter value\"))\n",
    "for i in range(0,10):\n",
    "    print(random.random()*(m - n) + n)\n",
    "    "
   ]
  },
  {
   "cell_type": "code",
   "execution_count": 12,
   "id": "5d222d1a-3c69-4d4e-a2fe-ca484640d2f0",
   "metadata": {},
   "outputs": [
    {
     "name": "stdout",
     "output_type": "stream",
     "text": [
      "120\n"
     ]
    }
   ],
   "source": [
    "'''\n",
    "WAP to create a function in a module which should accept three subject marks and return\n",
    "their total. use this function in another module to print the avg of marks.\n",
    "'''\n",
    "import StudentMarks  \n",
    "\n",
    "total_marks = StudentMarks.stu_marks  \n",
    "\n",
    "  \n",
    "\n",
    "def marks(total_marks):     \n",
    "    total = 0\n",
    "    i = 0\n",
    "    while i < len(total_marks):\n",
    "        total = total + total_marks[i]\n",
    "        i = i + 1\n",
    "\n",
    "    return(total)   \n",
    "\n",
    "sum_of_total_marks =marks(total_marks)\n",
    "print(sum_of_total_marks)"
   ]
  },
  {
   "cell_type": "code",
   "execution_count": 13,
   "id": "319e1afd-d9ef-4823-8b08-d9b892532664",
   "metadata": {},
   "outputs": [
    {
     "name": "stdout",
     "output_type": "stream",
     "text": [
      "40.0\n"
     ]
    }
   ],
   "source": [
    "import StudentMarks  \n",
    "\n",
    "total_marks = StudentMarks.stu_marks  \n",
    "\n",
    "  \n",
    "\n",
    "def marks(total_marks):     \n",
    "    total = 0\n",
    "    i = 0\n",
    "    while i < len(total_marks):\n",
    "        total = total + total_marks[i]\n",
    "        i = i + 1\n",
    "\n",
    "    return(total)\n",
    "\n",
    "sum_of_total_marks =marks(total_marks)\n",
    "print(sum_of_total_marks/len(total_marks))"
   ]
  }
 ],
 "metadata": {
  "kernelspec": {
   "display_name": "Python 3 (ipykernel)",
   "language": "python",
   "name": "python3"
  },
  "language_info": {
   "codemirror_mode": {
    "name": "ipython",
    "version": 3
   },
   "file_extension": ".py",
   "mimetype": "text/x-python",
   "name": "python",
   "nbconvert_exporter": "python",
   "pygments_lexer": "ipython3",
   "version": "3.9.8"
  }
 },
 "nbformat": 4,
 "nbformat_minor": 5
}
