{
 "cells": [
  {
   "cell_type": "code",
   "execution_count": 6,
   "id": "95dffb36-724e-44f6-a14c-6c2d4bcb5dee",
   "metadata": {},
   "outputs": [
    {
     "name": "stdout",
     "output_type": "stream",
     "text": [
      "i\n",
      "h\n",
      "t\n",
      "a\n",
      "r\n",
      "a\n",
      "h\n",
      "b\n"
     ]
    }
   ],
   "source": [
    "#reverse a string using generator function\n",
    "def string_reverse(my_str):\n",
    "    length_of_string = len(my_str)\n",
    "    for i in range(length_of_string -1, -1, -1):\n",
    "        yield my_str[i]\n",
    "\n",
    "\n",
    "for i in string_reverse(\"bharathi\"):\n",
    "    print(i)"
   ]
  },
  {
   "cell_type": "code",
   "execution_count": 1,
   "id": "7763691a-db7b-4f68-8dbc-09bec89883b5",
   "metadata": {},
   "outputs": [
    {
     "name": "stdout",
     "output_type": "stream",
     "text": [
      "1\n",
      "1\n",
      "2\n",
      "3\n",
      "5\n",
      "8\n",
      "13\n",
      "21\n"
     ]
    }
   ],
   "source": [
    "#WAP to print fibonacci series using generator function\n",
    "def fibo(n):\n",
    "    a=b=1\n",
    "    for i in range(n):\n",
    "        yield a\n",
    "        a,b=b,a+b\n",
    "    \n",
    "\n",
    "a  = fibo(10)\n",
    "print(next(a))\n",
    "print(next(a))\n",
    "print(next(a))\n",
    "print(next(a))\n",
    "print(next(a))\n",
    "print(next(a))\n",
    "print(next(a))\n",
    "print(next(a))"
   ]
  },
  {
   "cell_type": "code",
   "execution_count": 7,
   "id": "a6c91bee-f92a-4e82-9842-e67a3661c9cb",
   "metadata": {},
   "outputs": [
    {
     "name": "stdin",
     "output_type": "stream",
     "text": [
      "Enter a text:  bharathi\n"
     ]
    },
    {
     "name": "stdout",
     "output_type": "stream",
     "text": [
      "Number of vowels are: 3\n"
     ]
    }
   ],
   "source": [
    "'''\n",
    "WAP to create a function which should return the number of a vowels in a text \n",
    "and needs to be a passed as a parameter to another function\n",
    "'''\n",
    "def is_vowel(letter):\n",
    "    if letter in 'aeiouAEIOU':\n",
    "        return True\n",
    "    else:\n",
    "        return False\n",
    "\n",
    "def main():\n",
    "    count = 0\n",
    "    string = input('Enter a text: ')\n",
    "    for ch in string:\n",
    "        if(is_vowel(ch)):\n",
    "            count += 1\n",
    "\n",
    "    print('Number of vowels are:', count)\n",
    "\n",
    "main()\n",
    "\n",
    "\n"
   ]
  }
 ],
 "metadata": {
  "kernelspec": {
   "display_name": "Python 3 (ipykernel)",
   "language": "python",
   "name": "python3"
  },
  "language_info": {
   "codemirror_mode": {
    "name": "ipython",
    "version": 3
   },
   "file_extension": ".py",
   "mimetype": "text/x-python",
   "name": "python",
   "nbconvert_exporter": "python",
   "pygments_lexer": "ipython3",
   "version": "3.9.8"
  }
 },
 "nbformat": 4,
 "nbformat_minor": 5
}
