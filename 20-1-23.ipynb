{
 "cells": [
  {
   "cell_type": "code",
   "execution_count": 5,
   "id": "50589fce-55fb-435a-9e10-8fb2f9c550e9",
   "metadata": {},
   "outputs": [
    {
     "name": "stdin",
     "output_type": "stream",
     "text": [
      "value1: 19\n",
      "value2: 10\n",
      "value3: 5\n"
     ]
    },
    {
     "name": "stdout",
     "output_type": "stream",
     "text": [
      "19\n"
     ]
    }
   ],
   "source": [
    "#WAP to input three numbers and print largest one\n",
    "a = int(input(\"value1:\"))\n",
    "b = int(input(\"value2:\"))\n",
    "c = int(input(\"value3:\"))\n",
    "\n",
    "if (a > b):\n",
    "    d = a\n",
    "elif (c >b):\n",
    "    d = c\n",
    "else:\n",
    "    d = b\n",
    "print(d)\n",
    "    \n",
    "    \n",
    "    "
   ]
  },
  {
   "cell_type": "code",
   "execution_count": 1,
   "id": "bcd308aa-20be-49e7-9afe-bd94b5c527ec",
   "metadata": {},
   "outputs": [
    {
     "name": "stdin",
     "output_type": "stream",
     "text": [
      "value1: 67\n",
      "value2: 0\n",
      "value3: -1\n"
     ]
    },
    {
     "name": "stdout",
     "output_type": "stream",
     "text": [
      "-1 0 67\n"
     ]
    }
   ],
   "source": [
    "#WAP to input three numbers and arrange them in ascending order\n",
    "a = int(input(\"value1:\"))\n",
    "b = int(input(\"value2:\"))\n",
    "c = int(input(\"value3:\"))\n",
    "if (a < b and a < c):\n",
    "    if (b < c):\n",
    "        print(a, b, c)\n",
    "    else:\n",
    "        print(a, c, b)\n",
    "elif (b < c and b < a):\n",
    "    if (c < a):\n",
    "        print(b, c, a)\n",
    "    else:\n",
    "        print(b, a, c)\n",
    "else:\n",
    "    if (a < b):\n",
    "        print(c, a, b)\n",
    "    else:\n",
    "        print(c, b, a)\n",
    "        \n",
    "    "
   ]
  },
  {
   "cell_type": "code",
   "execution_count": null,
   "id": "8de96eb3-8b10-4f59-9975-8f608cf1070d",
   "metadata": {},
   "outputs": [],
   "source": []
  }
 ],
 "metadata": {
  "kernelspec": {
   "display_name": "Python 3 (ipykernel)",
   "language": "python",
   "name": "python3"
  },
  "language_info": {
   "codemirror_mode": {
    "name": "ipython",
    "version": 3
   },
   "file_extension": ".py",
   "mimetype": "text/x-python",
   "name": "python",
   "nbconvert_exporter": "python",
   "pygments_lexer": "ipython3",
   "version": "3.9.8"
  }
 },
 "nbformat": 4,
 "nbformat_minor": 5
}
