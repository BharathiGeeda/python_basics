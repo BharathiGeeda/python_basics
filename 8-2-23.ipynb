{
 "cells": [
  {
   "cell_type": "code",
   "execution_count": 6,
   "id": "ec6b335a-277e-43f0-8b7a-55922951fe2d",
   "metadata": {},
   "outputs": [
    {
     "name": "stdout",
     "output_type": "stream",
     "text": [
      "['RAM', 'BHA']\n"
     ]
    }
   ],
   "source": [
    "#WAP to capitalize all the words of a list using lambda function\n",
    "lst = ['ram', 'bha']\n",
    "\n",
    "result =map(lambda x: x.upper(), lst)\n",
    "\n",
    "print(list(result))"
   ]
  },
  {
   "cell_type": "code",
   "execution_count": 10,
   "id": "0a0aabf6-11a5-4981-923e-2c04ddfedc0d",
   "metadata": {},
   "outputs": [
    {
     "name": "stdout",
     "output_type": "stream",
     "text": [
      "[5, 7, 9]\n"
     ]
    }
   ],
   "source": [
    "#Write a Python program to add two given lists using lambda.\n",
    "lst = [1, 2, 3]\n",
    "lst2 = [4, 5, 6]\n",
    "result = map(lambda x, y: x + y, lst, lst2)\n",
    "\n",
    "print(list(result))"
   ]
  },
  {
   "cell_type": "code",
   "execution_count": 14,
   "id": "9da79ef5-0b8a-4c6f-9149-86895e44b995",
   "metadata": {},
   "outputs": [
    {
     "name": "stdout",
     "output_type": "stream",
     "text": [
      "1\n",
      "1\n",
      "2\n",
      "2\n",
      "3\n",
      "6\n",
      "4\n",
      "24\n",
      "5\n",
      "120\n",
      "6\n",
      "720\n",
      "7\n",
      "5040\n",
      "8\n",
      "40320\n",
      "9\n",
      "362880\n",
      "10\n",
      "3628800\n"
     ]
    }
   ],
   "source": [
    "'''\n",
    "WAP to create two threads where one thread should print the number from 1 to \n",
    "10 and the other thread should print the factorial of each number\n",
    "'''\n",
    "\n",
    "\n",
    "from threading import *\n",
    "import time\n",
    "\n",
    "class MyThread:\n",
    "    def number(self):\n",
    "        for i in range(1,11):\n",
    "            print(i)\n",
    "            time.sleep(1.0)\n",
    "\n",
    "    def factorial(self):\n",
    "        \n",
    "        factorial = 1\n",
    "        for number in range(1, 11):\n",
    "            factorial = factorial * number\n",
    "            print(factorial)\n",
    "            time.sleep(1.0)\n",
    "\n",
    "            \n",
    "            \n",
    "m=MyThread()\n",
    "t1=Thread(target=m.number)\n",
    "t2=Thread(target=m.factorial)\n",
    "t1.start()\n",
    "time.sleep(0.2)\n",
    "t2.start()\n",
    "time.sleep(0.2)"
   ]
  }
 ],
 "metadata": {
  "kernelspec": {
   "display_name": "Python 3 (ipykernel)",
   "language": "python",
   "name": "python3"
  },
  "language_info": {
   "codemirror_mode": {
    "name": "ipython",
    "version": 3
   },
   "file_extension": ".py",
   "mimetype": "text/x-python",
   "name": "python",
   "nbconvert_exporter": "python",
   "pygments_lexer": "ipython3",
   "version": "3.9.8"
  }
 },
 "nbformat": 4,
 "nbformat_minor": 5
}
