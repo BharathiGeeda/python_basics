{
 "cells": [
  {
   "cell_type": "code",
   "execution_count": 8,
   "id": "da680f3c-f291-4a70-8db2-a4fd867ecc4d",
   "metadata": {},
   "outputs": [
    {
     "name": "stdin",
     "output_type": "stream",
     "text": [
      "Enter the radius 4\n"
     ]
    },
    {
     "name": "stdout",
     "output_type": "stream",
     "text": [
      "area_of_circle: 50.24\n"
     ]
    }
   ],
   "source": [
    "'''\n",
    "create a class called Shape which will have a method to input radius. Create a class \n",
    "called Circle which should inherit the Shape class and display \n",
    "area of circle by using the method of shape class\n",
    "'''\n",
    "class Shape:\n",
    "    def show(self):\n",
    "        self.a = int(input(\"Enter the radius\"))\n",
    "class Circle(Shape):\n",
    "    def demo(self):\n",
    "        print(\"area_of_circle:\", 3.14 * self.a**2)\n",
    "        \n",
    "        \n",
    "c = Circle()\n",
    "c.show()\n",
    "c.demo()\n",
    "\n",
    "\n",
    "\n",
    "              \n",
    "              \n",
    "        \n"
   ]
  },
  {
   "cell_type": "code",
   "execution_count": 10,
   "id": "3276c651-57c4-46b3-80f4-86effac23cda",
   "metadata": {},
   "outputs": [
    {
     "name": "stdin",
     "output_type": "stream",
     "text": [
      "enter the input geeta\n"
     ]
    },
    {
     "name": "stdout",
     "output_type": "stream",
     "text": [
      "GEETA\n"
     ]
    }
   ],
   "source": [
    "'''\n",
    "Write a Python class which has two methods get_String and print_String. \n",
    "get_String accept a string from the user and print_String print the string in upper case\n",
    "'''\n",
    "class two_methods:\n",
    "    def __init__(self):\n",
    "        self.str1 = \"\"\n",
    "\n",
    "    def get_String(self):\n",
    "        self.str1 = input(\"enter the input\")\n",
    "\n",
    "    def print_String(self):\n",
    "        print(self.str1.upper())\n",
    "\n",
    "Name = two_methods()\n",
    "Name.get_String()\n",
    "Name.print_String()\n"
   ]
  },
  {
   "cell_type": "code",
   "execution_count": 9,
   "id": "444a1ced-331e-4cfc-8016-774e6b677403",
   "metadata": {},
   "outputs": [
    {
     "name": "stdin",
     "output_type": "stream",
     "text": [
      "Enter length of rectangle:  4\n",
      "Enter width of rectangle:  5\n"
     ]
    },
    {
     "name": "stdout",
     "output_type": "stream",
     "text": [
      "20\n"
     ]
    }
   ],
   "source": [
    "'''\n",
    "Write a Python class named Rectangle constructed by a length and width and a method which \n",
    "will compute the area of a rectangle.\n",
    "'''\n",
    "class rectangle:\n",
    "    def __init__(self,width,length):\n",
    "        self.length=length\n",
    "        self.width=width\n",
    "    def area(self):\n",
    "        return self.width*self.length\n",
    "a=int(input(\"Enter length of rectangle: \"))\n",
    "b=int(input(\"Enter width of rectangle: \"))\n",
    "\n",
    "Total_Area=rectangle(a,b)\n",
    "print(Total_Area.area())\n",
    "\n",
    "\n"
   ]
  }
 ],
 "metadata": {
  "kernelspec": {
   "display_name": "Python 3 (ipykernel)",
   "language": "python",
   "name": "python3"
  },
  "language_info": {
   "codemirror_mode": {
    "name": "ipython",
    "version": 3
   },
   "file_extension": ".py",
   "mimetype": "text/x-python",
   "name": "python",
   "nbconvert_exporter": "python",
   "pygments_lexer": "ipython3",
   "version": "3.9.8"
  }
 },
 "nbformat": 4,
 "nbformat_minor": 5
}
