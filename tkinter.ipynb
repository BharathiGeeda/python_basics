{
 "cells": [
  {
   "cell_type": "code",
   "execution_count": 1,
   "id": "fa5490d8-cc31-46e3-91df-a4fc161ca0ea",
   "metadata": {},
   "outputs": [
    {
     "name": "stdout",
     "output_type": "stream",
     "text": [
      "65\n"
     ]
    }
   ],
   "source": [
    "import tkinter \n",
    "\n",
    "def demo():\n",
    "    val=int(e1.get())\n",
    "    val2 = int(e2.get())\n",
    "    print(val + val2)\n",
    "\n",
    "root = tkinter.Tk()   \n",
    "\n",
    "e1=tkinter.Entry(root)\n",
    "e2=tkinter.Entry(root)\n",
    "e1.pack()\n",
    "e2.pack()\n",
    "b=tkinter.Button(root,text=\"Click\",command=demo)\n",
    "b.pack()\n",
    "root.mainloop()\n"
   ]
  },
  {
   "cell_type": "code",
   "execution_count": null,
   "id": "957b525a-561a-4270-a277-ee0beb7d1156",
   "metadata": {},
   "outputs": [],
   "source": []
  }
 ],
 "metadata": {
  "kernelspec": {
   "display_name": "Python 3 (ipykernel)",
   "language": "python",
   "name": "python3"
  },
  "language_info": {
   "codemirror_mode": {
    "name": "ipython",
    "version": 3
   },
   "file_extension": ".py",
   "mimetype": "text/x-python",
   "name": "python",
   "nbconvert_exporter": "python",
   "pygments_lexer": "ipython3",
   "version": "3.9.8"
  }
 },
 "nbformat": 4,
 "nbformat_minor": 5
}
