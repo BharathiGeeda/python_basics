{
 "cells": [
  {
   "cell_type": "code",
   "execution_count": 63,
   "id": "9ad1b25c-67ab-45a1-9bee-06cfcf30eaf6",
   "metadata": {},
   "outputs": [
    {
     "name": "stdout",
     "output_type": "stream",
     "text": [
      "valid\n"
     ]
    }
   ],
   "source": [
    "#WAP to take phone number as input and validate it\n",
    "ph_num = \"91-9706454878\"\n",
    "x = re.findall(\"([91])[-][0-9]{9}\",ph_num)\n",
    "if x:\n",
    "    print(\"valid\")\n",
    "else:\n",
    "    print(\"not valid\")"
   ]
  },
  {
   "cell_type": "code",
   "execution_count": 49,
   "id": "bdc6ddfa-ec83-44cd-81ce-a2f1c7ffc86c",
   "metadata": {},
   "outputs": [
    {
     "name": "stdout",
     "output_type": "stream",
     "text": [
      "valid\n"
     ]
    }
   ],
   "source": [
    "#WAP to validate pincode.\n",
    "pincode = \"522435\"\n",
    "x = re.findall(\"[1-9][0-9]{5}\",pincode)\n",
    "if x:\n",
    "    print(\"valid\")\n",
    "else:\n",
    "    print(\"not valid\")"
   ]
  },
  {
   "cell_type": "code",
   "execution_count": 69,
   "id": "89c8b97a-ca11-4b4f-899a-f6efef26fa8f",
   "metadata": {},
   "outputs": [
    {
     "name": "stdout",
     "output_type": "stream",
     "text": [
      "valid\n"
     ]
    }
   ],
   "source": [
    "#WAP to validate email id.\n",
    "\n",
    "mail = \"bharathi_123@gmail.com\"\n",
    "x = re.findall('[a-zA-Z0-9]+@[a-z]+\\.[a-z]',mail)\n",
    "if x:\n",
    "    print(\"valid\")\n",
    "else:\n",
    "    print(\"not valid\")"
   ]
  },
  {
   "cell_type": "code",
   "execution_count": 74,
   "id": "5a572e13-2dae-4130-9f25-cecdc313c919",
   "metadata": {},
   "outputs": [
    {
     "name": "stdout",
     "output_type": "stream",
     "text": [
      "not valid\n"
     ]
    }
   ],
   "source": [
    "mail = \"bharathi123@gmail.com\"\n",
    "\n",
    "x = re.findall(\"r'[\\w.]+@[\\w.]\", mail)\n",
    "\n",
    "if x:\n",
    "    print(\"valid\")\n",
    "else:\n",
    "    print(\"not valid\")"
   ]
  },
  {
   "cell_type": "code",
   "execution_count": 81,
   "id": "6dd7aa8c-d2de-4ca0-b9bf-e05b5349f2dc",
   "metadata": {},
   "outputs": [
    {
     "name": "stdout",
     "output_type": "stream",
     "text": [
      "valid\n"
     ]
    }
   ],
   "source": [
    "mail = \"bharathi123@gmail.com\"\n",
    "x = re.findall('[a-zA-Z0-9]+@[a-z]+\\.[a-z]',mail)\n",
    "if x:\n",
    "    print(\"valid\")\n",
    "else:\n",
    "    print(\"not valid\")"
   ]
  },
  {
   "cell_type": "code",
   "execution_count": null,
   "id": "d473a9eb-3468-48aa-9d0f-0266baa3280c",
   "metadata": {},
   "outputs": [],
   "source": []
  }
 ],
 "metadata": {
  "kernelspec": {
   "display_name": "Python 3 (ipykernel)",
   "language": "python",
   "name": "python3"
  },
  "language_info": {
   "codemirror_mode": {
    "name": "ipython",
    "version": 3
   },
   "file_extension": ".py",
   "mimetype": "text/x-python",
   "name": "python",
   "nbconvert_exporter": "python",
   "pygments_lexer": "ipython3",
   "version": "3.9.8"
  }
 },
 "nbformat": 4,
 "nbformat_minor": 5
}
