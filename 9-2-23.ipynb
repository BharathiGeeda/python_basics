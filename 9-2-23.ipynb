{
 "cells": [
  {
   "cell_type": "code",
   "execution_count": 1,
   "id": "5f9613aa-9ea7-4bdf-a73b-277675824965",
   "metadata": {},
   "outputs": [
    {
     "name": "stdout",
     "output_type": "stream",
     "text": [
      "2\n",
      "4\n",
      "8\n",
      "16\n"
     ]
    }
   ],
   "source": [
    "#Create a class as an iterator which should return the power of 2 until exponent 4\n",
    "class MyNumbers:\n",
    "    def __iter__(self):\n",
    "        self.a=2\n",
    "        self.exp=1\n",
    "        return self\n",
    "\n",
    "    def __next__(self):\n",
    "        if self.exp<5:\n",
    "            x=self.a**self.exp\n",
    "            self.exp+=1\n",
    "            return x\n",
    "        else:\n",
    "            raise StopIteration\n",
    "        \n",
    "\n",
    "myclass=MyNumbers()\n",
    "myiter=iter(myclass)\n",
    "\n",
    "print(next(myiter))\n",
    "print(next(myiter))\n",
    "print(next(myiter))\n",
    "print(next(myiter))\n",
    "\n",
    "\n",
    "\n",
    "\n"
   ]
  },
  {
   "cell_type": "code",
   "execution_count": 20,
   "id": "584477de-df4e-4bc4-a29e-54645c77781a",
   "metadata": {},
   "outputs": [
    {
     "name": "stdout",
     "output_type": "stream",
     "text": [
      "[1, 4, 6]\n"
     ]
    }
   ],
   "source": [
    "#Write a Python program to filter a list of integers using Lambda\n",
    "lst=  [\"bha\", 1, 1.0, True, 4, 6 ]\n",
    "\n",
    "def integers(list):\n",
    "    result = list(filter(lambda x: type(x) == int , lst))\n",
    "    return result\n",
    "print(integers(list))"
   ]
  },
  {
   "cell_type": "code",
   "execution_count": 16,
   "id": "76106d23-49bd-4d05-8c91-56b134f87803",
   "metadata": {},
   "outputs": [
    {
     "name": "stdout",
     "output_type": "stream",
     "text": [
      "[1, 4, 6]\n"
     ]
    }
   ],
   "source": [
    "list_1=  [\"bha\", 1, 1.0, True, 4, 6]\n",
    "\n",
    "result = filter(lambda x:type(x) == int , list_1)\n",
    "print(list(result))"
   ]
  },
  {
   "cell_type": "code",
   "execution_count": null,
   "id": "e1d1488c-3628-4716-9ea8-237c6cf64f06",
   "metadata": {},
   "outputs": [],
   "source": []
  }
 ],
 "metadata": {
  "kernelspec": {
   "display_name": "Python 3 (ipykernel)",
   "language": "python",
   "name": "python3"
  },
  "language_info": {
   "codemirror_mode": {
    "name": "ipython",
    "version": 3
   },
   "file_extension": ".py",
   "mimetype": "text/x-python",
   "name": "python",
   "nbconvert_exporter": "python",
   "pygments_lexer": "ipython3",
   "version": "3.9.8"
  }
 },
 "nbformat": 4,
 "nbformat_minor": 5
}
